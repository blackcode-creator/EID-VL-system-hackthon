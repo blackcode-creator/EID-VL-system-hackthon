{
 "cells": [
  {
   "cell_type": "code",
   "execution_count": 4,
   "id": "10d28c66",
   "metadata": {},
   "outputs": [],
   "source": [
    "#installing necessary libraries\n",
    "import pandas as pd"
   ]
  },
  {
   "cell_type": "code",
   "execution_count": null,
   "id": "a6887e7d",
   "metadata": {},
   "outputs": [],
   "source": []
  },
  {
   "cell_type": "code",
   "execution_count": null,
   "id": "cdcaf11f",
   "metadata": {},
   "outputs": [],
   "source": []
  }
 ],
 "metadata": {
  "kernelspec": {
   "display_name": "Python 3 (ipykernel)",
   "language": "python",
   "name": "python3"
  },
  "language_info": {
   "codemirror_mode": {
    "name": "ipython",
    "version": 3
   },
   "file_extension": ".py",
   "mimetype": "text/x-python",
   "name": "python",
   "nbconvert_exporter": "python",
   "pygments_lexer": "ipython3",
   "version": "3.10.9"
  },
  "vscode": {
   "interpreter": {
    "hash": "356034e7587920a5cf8b0af59b1f2061a84d41266d37279e1337c9c2e0aed16a"
   }
  }
 },
 "nbformat": 4,
 "nbformat_minor": 5
}
